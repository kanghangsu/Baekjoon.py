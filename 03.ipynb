{
 "cells": [
  {
   "cell_type": "markdown",
   "id": "7bd80820",
   "metadata": {},
   "source": [
    "| 단계 | 문제 번호 | 제목                                                            |\n",
    "| ---- | --------- | --------------------------------------------------------------- |\n",
    "| 1    | 2739      | [구구단](https://www.acmicpc.net/problem/2739)                  |\n",
    "| 2    | 10950     | [A+B - 3](https://www.acmicpc.net/problem/10950)                |\n",
    "| 3    | 8393      | [합](https://www.acmicpc.net/problem/8393)                      |\n",
    "| 4    | 25304     | [영수증](https://www.acmicpc.net/problem/25304)                 |\n",
    "| 5    | 25314     | [코딩은 체육과목 입니다](https://www.acmicpc.net/problem/25314) |\n",
    "| 6    | 15552     | [빠른 A+B](https://www.acmicpc.net/problem/15552)               |\n",
    "| 7    | 11021     | [A+B - 7](https://www.acmicpc.net/problem/11021)                |\n",
    "| 8    | 11022     | [A+B - 8](https://www.acmicpc.net/problem/11022)                |\n",
    "| 9    | 2438      | [별 찍기 - 1](https://www.acmicpc.net/problem/2438)             |\n",
    "| 10   | 2439      | [별 찍기 - 2](https://www.acmicpc.net/problem/2439)             |\n",
    "| 11   | 10952     | [A+B - 5](https://www.acmicpc.net/problem/10952)                |\n",
    "| 12   | 10951     | [A+B - 4](https://www.acmicpc.net/problem/10951)                |"
   ]
  },
  {
   "cell_type": "code",
   "execution_count": null,
   "id": "e59c353e",
   "metadata": {},
   "outputs": [],
   "source": [
    "N = int(input())\n",
    "\n",
    "for i in range(1, 10):\n",
    "    print(N, \"*\", i, \"=\", N * i)"
   ]
  },
  {
   "cell_type": "code",
   "execution_count": null,
   "id": "b0c28077",
   "metadata": {},
   "outputs": [],
   "source": [
    "T = int(input())\n",
    "answers = []\n",
    "\n",
    "for i in range(T):\n",
    "    A, B = input().split()\n",
    "    A = int(A)\n",
    "    B = int(B)\n",
    "    answer = A + B\n",
    "    answers.append(answer)\n",
    "\n",
    "for answer in answers:\n",
    "    print(answer)"
   ]
  },
  {
   "cell_type": "code",
   "execution_count": null,
   "id": "f48e1e54",
   "metadata": {},
   "outputs": [],
   "source": [
    "n = int(input())\n",
    "\n",
    "sum = 0\n",
    "\n",
    "for i in range(1, n + 1):\n",
    "    sum = sum + i\n",
    "\n",
    "print(sum)"
   ]
  },
  {
   "cell_type": "code",
   "execution_count": null,
   "id": "6f63a30f",
   "metadata": {},
   "outputs": [],
   "source": [
    "X = int(input())\n",
    "N = int(input())\n",
    "\n",
    "for i in range(N):\n",
    "    perItem = input().split()\n",
    "    a = int(perItem[0])\n",
    "    b = int(perItem[1])\n",
    "    X = X - a * b\n",
    "\n",
    "if X == 0:\n",
    "    print(\"Yes\")\n",
    "else:\n",
    "    print(\"No\")"
   ]
  },
  {
   "cell_type": "code",
   "execution_count": null,
   "id": "8693be13",
   "metadata": {},
   "outputs": [],
   "source": [
    "N = int(input())\n",
    "\n",
    "longString = \"\"\n",
    "\n",
    "for i in range(N // 4):\n",
    "    longString = longString + \"long \"\n",
    "\n",
    "print(longString + \"int\")"
   ]
  },
  {
   "cell_type": "code",
   "execution_count": null,
   "id": "e012fede",
   "metadata": {},
   "outputs": [],
   "source": [
    "import sys\n",
    "\n",
    "T = int(sys.stdin.readline().rstrip())\n",
    "answers = []\n",
    "\n",
    "for i in range(T):\n",
    "    A, B = sys.stdin.readline().rstrip().split()\n",
    "    A = int(A)\n",
    "    B = int(B)\n",
    "    answer = A + B\n",
    "    answers.append(answer)\n",
    "\n",
    "for answer in answers:\n",
    "    print(answer)"
   ]
  },
  {
   "cell_type": "code",
   "execution_count": null,
   "id": "0ac39565",
   "metadata": {},
   "outputs": [],
   "source": [
    "T = int(input())\n",
    "answers = []\n",
    "\n",
    "for i in range(T):\n",
    "    A, B = input().split()\n",
    "    A = int(A)\n",
    "    B = int(B)\n",
    "    answer = A + B\n",
    "    answers.append(answer)\n",
    "\n",
    "i = 0\n",
    "\n",
    "for answer in answers:\n",
    "    i = i + 1\n",
    "    print(f\"Case #{i}: {answer}\")"
   ]
  },
  {
   "cell_type": "code",
   "execution_count": null,
   "id": "bd093395",
   "metadata": {},
   "outputs": [],
   "source": [
    "T = int(input())\n",
    "answers = []\n",
    "\n",
    "for i in range(T):\n",
    "    A, B = input().split()\n",
    "    A = int(A)\n",
    "    B = int(B)\n",
    "    answer = f\"Case #{i + 1}: {A} + {B} = {A + B}\"\n",
    "    answers.append(answer)\n",
    "\n",
    "for answer in answers:\n",
    "    print(answer)"
   ]
  },
  {
   "cell_type": "code",
   "execution_count": null,
   "id": "c448318a",
   "metadata": {},
   "outputs": [],
   "source": [
    "N = int(input())\n",
    "\n",
    "for i in range(1, N + 1):\n",
    "    for j in range(1, i + 1):\n",
    "        print(\"*\", end=\"\")\n",
    "    print()"
   ]
  },
  {
   "cell_type": "code",
   "execution_count": null,
   "id": "12ad3ff4",
   "metadata": {},
   "outputs": [],
   "source": [
    "N = int(input())\n",
    "\n",
    "for i in range(1, N + 1):\n",
    "    for j in range(1, N - i + 1):\n",
    "        print(\" \", end=\"\")\n",
    "    for j in range(1, i + 1):\n",
    "        print(\"*\", end=\"\")\n",
    "    print()"
   ]
  },
  {
   "cell_type": "code",
   "execution_count": null,
   "id": "0955e53a",
   "metadata": {},
   "outputs": [],
   "source": [
    "answers = []\n",
    "\n",
    "while True:\n",
    "    A, B = input().split()\n",
    "    A = int(A)\n",
    "    B = int(B)\n",
    "    if A == 0 and B == 0:\n",
    "        break\n",
    "    else:\n",
    "        answer = A + B\n",
    "        answers.append(answer)\n",
    "\n",
    "for answer in answers:\n",
    "    print(answer)"
   ]
  },
  {
   "cell_type": "code",
   "execution_count": null,
   "id": "73f1dbf5",
   "metadata": {},
   "outputs": [],
   "source": [
    "answers = []\n",
    "\n",
    "while True:\n",
    "    try:\n",
    "        A, B = input().split()\n",
    "        A = int(A)\n",
    "        B = int(B)\n",
    "        answer = A + B\n",
    "        answers.append(answer)\n",
    "    except:\n",
    "        for answer in answers:\n",
    "            print(answer)\n",
    "        break"
   ]
  }
 ],
 "metadata": {
  "language_info": {
   "name": "python"
  }
 },
 "nbformat": 4,
 "nbformat_minor": 5
}
