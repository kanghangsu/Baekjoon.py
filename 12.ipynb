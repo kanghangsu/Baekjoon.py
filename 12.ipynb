{
 "cells": [
  {
   "cell_type": "markdown",
   "metadata": {},
   "source": [
    "| 단계 | 문제 번호 | 제목                                                             |\n",
    "| ---- | --------- | ---------------------------------------------------------------- |\n",
    "| 1    | 2798      | [블랙잭](https://www.acmicpc.net/problem/2798)                   |\n",
    "| 2    | 2231      | [분해합](https://www.acmicpc.net/problem/2231)                   |\n",
    "| 3    | 19532     | [수학은 비대면강의입니다](https://www.acmicpc.net/problem/19532) |\n",
    "| 4    | 1018      | [체스판 다시 칠하기](https://www.acmicpc.net/problem/1018)       |\n",
    "| 5    | 1436      | [영화감독 숌](https://www.acmicpc.net/problem/1436)              |\n",
    "| 6    | 2839      | [설탕 배달](https://www.acmicpc.net/problem/2839)                |"
   ]
  },
  {
   "cell_type": "code",
   "execution_count": null,
   "metadata": {},
   "outputs": [],
   "source": [
    "N, M = list(map(int, input().split()))\n",
    "given_cards = sorted(list(map(int, input().split())))\n",
    "\n",
    "sum_cards = []\n",
    "\n",
    "for i in range(0, N):\n",
    "    for j in range(i + 1, N):\n",
    "        for k in range(j + 1, N):\n",
    "            if given_cards[i] + given_cards[j] + given_cards[k] <= M:\n",
    "                sum_cards.append(given_cards[i] + given_cards[j] + given_cards[k])\n",
    "\n",
    "print(max(sum_cards))"
   ]
  },
  {
   "cell_type": "code",
   "execution_count": null,
   "metadata": {},
   "outputs": [],
   "source": [
    "N = int(input())\n",
    "\n",
    "constructor = []\n",
    "\n",
    "for i in range(1, N + 1):\n",
    "    if i + sum(map(int, str(i))) == N:\n",
    "        constructor.append(i)\n",
    "\n",
    "if len(constructor) == 0:\n",
    "    print(0)\n",
    "\n",
    "else:\n",
    "    print(min(constructor))"
   ]
  },
  {
   "cell_type": "code",
   "execution_count": null,
   "metadata": {},
   "outputs": [],
   "source": [
    "a, b, c, d, e, f = list(map(int, input().split()))\n",
    "\n",
    "for i in range(-999, 1000):\n",
    "    for j in range(-999, 1000):\n",
    "        if a * i + b * j == c and d * i + e * j == f:\n",
    "            print(i, j)\n",
    "            break"
   ]
  },
  {
   "cell_type": "code",
   "execution_count": null,
   "metadata": {},
   "outputs": [],
   "source": [
    "N, M = list(map(int, input().split()))\n",
    "\n",
    "board = []\n",
    "\n",
    "for i in range(N):\n",
    "    line = list(input())\n",
    "    for i in range(len(line)):\n",
    "        if line[i] == \"W\":\n",
    "            line[i] = 1\n",
    "        else:\n",
    "            line[i] = 0\n",
    "    board.append(line)\n",
    "\n",
    "while True:\n",
    "    min_sum = 64\n",
    "    for i in range(0, N - 7):\n",
    "        for j in range(0, M - 7):\n",
    "            sum = 0\n",
    "            for k in range(i, i + 8):\n",
    "                for l in range(j, j + 8):\n",
    "                    if (k + l) % 2 == 0:\n",
    "                        if board[k][l] == 0:\n",
    "                            sum += 1\n",
    "                    else:\n",
    "                        if board[k][l] == 1:\n",
    "                            sum += 1\n",
    "            if sum > 32:\n",
    "                sum = 64 - sum\n",
    "            if sum < min_sum:\n",
    "                min_sum = sum\n",
    "    break\n",
    "\n",
    "print(min_sum)"
   ]
  },
  {
   "cell_type": "code",
   "execution_count": null,
   "metadata": {},
   "outputs": [],
   "source": [
    "N = int(input())\n",
    "\n",
    "DEVIL_NUMBER = 666\n",
    "\n",
    "i = 1\n",
    "\n",
    "titles = []\n",
    "while True:\n",
    "    if N == 1:\n",
    "        print(DEVIL_NUMBER)\n",
    "        break\n",
    "    else:\n",
    "        if \"666\" in str(i):\n",
    "            titles.append(i)\n",
    "            i += 1\n",
    "        else:\n",
    "            i += 1\n",
    "        if len(titles) == N:\n",
    "            print(titles[-1])\n",
    "            break"
   ]
  },
  {
   "cell_type": "code",
   "execution_count": null,
   "metadata": {},
   "outputs": [],
   "source": [
    "N = int(input())\n",
    "\n",
    "sugars = []\n",
    "\n",
    "small_sugar = 3\n",
    "big_sugar = 5\n",
    "\n",
    "for i in range(0, N // small_sugar + 1):\n",
    "    for j in range(0, N // big_sugar + 1):\n",
    "        if small_sugar * i + big_sugar * j == N:\n",
    "            sugars.append(i + j)\n",
    "\n",
    "if len(sugars) == 0:\n",
    "    print(-1)\n",
    "else:\n",
    "    print(min(sugars))"
   ]
  }
 ],
 "metadata": {
  "kernelspec": {
   "display_name": "Baekjoon.py",
   "language": "python",
   "name": "python3"
  },
  "language_info": {
   "codemirror_mode": {
    "name": "ipython",
    "version": 3
   },
   "file_extension": ".py",
   "mimetype": "text/x-python",
   "name": "python",
   "nbconvert_exporter": "python",
   "pygments_lexer": "ipython3",
   "version": "3.11.5"
  }
 },
 "nbformat": 4,
 "nbformat_minor": 2
}
