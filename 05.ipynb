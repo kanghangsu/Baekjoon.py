{
 "cells": [
  {
   "cell_type": "markdown",
   "id": "ac54f8ea",
   "metadata": {},
   "source": [
    "| 단계 | 문제 번호 | 제목                                                     |\n",
    "| ---- | --------- | -------------------------------------------------------- |\n",
    "| 1    | 27866     | [문자와 문자열](https://www.acmicpc.net/problem/27866)   |\n",
    "| 2    | 2743      | [단어 길이 재기](https://www.acmicpc.net/problem/2743)   |\n",
    "| 3    | 9086      | [문자열](https://www.acmicpc.net/problem/9086)           |\n",
    "| 4    | 11654     | [아스키 코드](https://www.acmicpc.net/problem/11654)     |\n",
    "| 5    | 11720     | [숫자의 합](https://www.acmicpc.net/problem/11720)       |\n",
    "| 6    | 10809     | [알파벳 찾기](https://www.acmicpc.net/problem/10809)     |\n",
    "| 7    | 2675      | [문자열 반복](https://www.acmicpc.net/problem/2675)      |\n",
    "| 8    | 1152      | [단어의 개수](https://www.acmicpc.net/problem/1152)      |\n",
    "| 9    | 2908      | [상수](https://www.acmicpc.net/problem/2908)             |\n",
    "| 10   | 5622      | [다이얼](https://www.acmicpc.net/problem/5622)           |\n",
    "| 11   | 11718     | [그대로 출력하기](https://www.acmicpc.net/problem/11718) |"
   ]
  },
  {
   "cell_type": "code",
   "execution_count": null,
   "id": "7d93627f",
   "metadata": {},
   "outputs": [],
   "source": [
    "# https://www.acmicpc.net/problem/27866\n",
    "\n",
    "S = input()\n",
    "i = int(input())\n",
    "\n",
    "print(S[i - 1])\n"
   ]
  },
  {
   "cell_type": "code",
   "execution_count": null,
   "id": "01145cfc",
   "metadata": {},
   "outputs": [],
   "source": [
    "# https://www.acmicpc.net/problem/2743\n",
    "\n",
    "S = input()\n",
    "\n",
    "print(len(S))\n"
   ]
  },
  {
   "cell_type": "code",
   "execution_count": null,
   "id": "4af51d10",
   "metadata": {},
   "outputs": [],
   "source": [
    "# https://www.acmicpc.net/problem/9086\n",
    "\n",
    "T = int(input())\n",
    "answers = []\n",
    "\n",
    "for _ in range(T):\n",
    "    S = input()\n",
    "    answers.append(S[0] + S[-1])\n",
    "\n",
    "print(\"\\n\".join(answers))\n"
   ]
  },
  {
   "cell_type": "code",
   "execution_count": null,
   "id": "ee778ac2",
   "metadata": {},
   "outputs": [],
   "source": [
    "# https://www.acmicpc.net/problem/11654\n",
    "\n",
    "c = input()\n",
    "\n",
    "print(ord(c))\n"
   ]
  },
  {
   "cell_type": "code",
   "execution_count": null,
   "id": "21b435c7",
   "metadata": {},
   "outputs": [],
   "source": [
    "# https://www.acmicpc.net/problem/11720\n",
    "\n",
    "N = int(input())\n",
    "S = input()\n",
    "\n",
    "sum = 0\n",
    "\n",
    "for _ in range(len(S)):\n",
    "    sum += int(S[_])\n",
    "\n",
    "print(sum)\n"
   ]
  },
  {
   "cell_type": "code",
   "execution_count": null,
   "id": "5786c572",
   "metadata": {},
   "outputs": [],
   "source": [
    "# https://www.acmicpc.net/problem/10809\n",
    "\n",
    "S = input()\n",
    "\n",
    "AZ = \"abcdefghijklmnopqrstuvwxyz\"\n",
    "\n",
    "for i in range(len(AZ)):\n",
    "    if AZ[i] in S:\n",
    "        print(S.index(AZ[i]), end=\" \")\n",
    "    else:\n",
    "        print(-1, end=\" \")\n",
    "print()\n"
   ]
  },
  {
   "cell_type": "code",
   "execution_count": null,
   "id": "aa2e1997",
   "metadata": {},
   "outputs": [],
   "source": [
    "# https://www.acmicpc.net/problem/2675\n",
    "\n",
    "T = int(input())\n",
    "\n",
    "answers = []\n",
    "\n",
    "for _ in range(T):\n",
    "    R, S = input().split()\n",
    "    R = int(R)\n",
    "    answer = \"\"\n",
    "    for c in S:\n",
    "        answer += c * R\n",
    "    answers.append(answer)\n",
    "\n",
    "print(\"\\n\".join(answers))\n"
   ]
  },
  {
   "cell_type": "code",
   "execution_count": null,
   "id": "79f7c359",
   "metadata": {},
   "outputs": [],
   "source": [
    "# https://www.acmicpc.net/problem/1152\n",
    "\n",
    "string = input()\n",
    "\n",
    "print(len(string.split()))\n"
   ]
  },
  {
   "cell_type": "code",
   "execution_count": null,
   "id": "5e770bbb",
   "metadata": {},
   "outputs": [],
   "source": [
    "# https://www.acmicpc.net/problem/2908\n",
    "\n",
    "A, B = input().split()\n",
    "\n",
    "A = int(A[::-1])\n",
    "B = int(B[::-1])\n",
    "\n",
    "print(max(A, B))\n"
   ]
  },
  {
   "cell_type": "code",
   "execution_count": null,
   "id": "c1c03684",
   "metadata": {},
   "outputs": [],
   "source": [
    "# https://www.acmicpc.net/problem/5622\n",
    "\n",
    "S = input()\n",
    "\n",
    "AZ = [\"ABC\", \"DEF\", \"GHI\", \"JKL\", \"MNO\", \"PQRS\", \"TUV\", \"WXYZ\"]\n",
    "\n",
    "time = 0\n",
    "\n",
    "for i in range(len(S)):\n",
    "    for j in range(len(AZ)):\n",
    "        if S[i] in AZ[j]:\n",
    "            time += j + 3\n",
    "\n",
    "print(time)\n"
   ]
  },
  {
   "cell_type": "code",
   "execution_count": null,
   "id": "81c2c7ed",
   "metadata": {},
   "outputs": [],
   "source": [
    "# https://www.acmicpc.net/problem/11718\n",
    "\n",
    "buffer = []\n",
    "\n",
    "while True:\n",
    "    try:\n",
    "        buffer.append(input())\n",
    "    except:\n",
    "        break\n",
    "\n",
    "print(\"\\n\".join(buffer))\n"
   ]
  }
 ],
 "metadata": {
  "language_info": {
   "name": "python"
  }
 },
 "nbformat": 4,
 "nbformat_minor": 5
}
