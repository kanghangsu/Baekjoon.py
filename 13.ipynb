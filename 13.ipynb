{
 "cells": [
  {
   "cell_type": "code",
   "execution_count": null,
   "metadata": {},
   "outputs": [],
   "source": [
    "N = int(input())\n",
    "\n",
    "numbers = [int(input()) for _ in range(N)]\n",
    "\n",
    "for i in range(N):\n",
    "    print(sorted(numbers)[i])"
   ]
  },
  {
   "cell_type": "code",
   "execution_count": null,
   "metadata": {},
   "outputs": [],
   "source": [
    "numbers = [int(input()) for _ in range(5)]\n",
    "\n",
    "average = int(sum(numbers) / len(numbers))\n",
    "middle = int(sorted(numbers)[len(numbers) // 2])\n",
    "\n",
    "print(average)\n",
    "print(middle)"
   ]
  },
  {
   "cell_type": "code",
   "execution_count": null,
   "metadata": {},
   "outputs": [],
   "source": [
    "N, k = map(int, input().split())\n",
    "numbers = list(map(int, input().split()))\n",
    "\n",
    "print(sorted(numbers)[-k])"
   ]
  },
  {
   "cell_type": "code",
   "execution_count": null,
   "metadata": {},
   "outputs": [],
   "source": [
    "import sys\n",
    "\n",
    "input = sys.stdin.readline\n",
    "print = sys.stdout.write\n",
    "\n",
    "N = int(input().rstrip())\n",
    "numbers = [int(input().rstrip()) for _ in range(N)]\n",
    "sorted_numbers = sorted(numbers)\n",
    "\n",
    "for i in range(N):\n",
    "    print(str(sorted_numbers[i]) + \"\\n\")"
   ]
  },
  {
   "cell_type": "code",
   "execution_count": null,
   "metadata": {},
   "outputs": [],
   "source": [
    "import sys\n",
    "\n",
    "N = int(sys.stdin.readline().rstrip())\n",
    "count = [0] * 10001\n",
    "\n",
    "for _ in range(N):\n",
    "    number = int(sys.stdin.readline().rstrip())\n",
    "    count[number] += 1\n",
    "\n",
    "for i in range(10001):\n",
    "    if count[i] > 0:\n",
    "        for _ in range(count[i]):\n",
    "            sys.stdout.write(f\"{i}\\n\")"
   ]
  },
  {
   "cell_type": "code",
   "execution_count": null,
   "metadata": {},
   "outputs": [],
   "source": [
    "print(\"\".join(sorted(N := list(input()), reverse=True)))"
   ]
  },
  {
   "cell_type": "code",
   "execution_count": null,
   "metadata": {},
   "outputs": [],
   "source": [
    "N = int(input())\n",
    "\n",
    "cordination = [list(map(int, input().split())) for _ in range(N)]\n",
    "cordination.sort(key=lambda x: (x[0], x[1]))\n",
    "\n",
    "for i in range(N):\n",
    "    print(cordination[i][0], cordination[i][1])"
   ]
  },
  {
   "cell_type": "code",
   "execution_count": null,
   "metadata": {},
   "outputs": [],
   "source": [
    "N = int(input())\n",
    "\n",
    "cordination = [list(map(int, input().split())) for _ in range(N)]\n",
    "cordination.sort(key=lambda x: (x[1], x[0]))\n",
    "\n",
    "for i in range(N):\n",
    "    print(cordination[i][0], cordination[i][1])"
   ]
  },
  {
   "cell_type": "code",
   "execution_count": null,
   "metadata": {},
   "outputs": [],
   "source": [
    "N = int(input())\n",
    "\n",
    "words = sorted(list(set([input() for _ in range(N)])), key=lambda x: (len(x), x))\n",
    "\n",
    "print(\"\\n\".join(words))"
   ]
  },
  {
   "cell_type": "code",
   "execution_count": null,
   "metadata": {},
   "outputs": [],
   "source": [
    "import sys\n",
    "\n",
    "input = sys.stdin.readline\n",
    "print = sys.stdout.write\n",
    "\n",
    "N = int(input())\n",
    "age_name = sorted(\n",
    "    [input().rstrip().split() for _ in range(N)], key=lambda x: (int(x[0]))\n",
    ")\n",
    "\n",
    "print(\"\\n\".join([\" \".join(age_name[i]) for i in range(N)]) + \"\\n\")"
   ]
  },
  {
   "cell_type": "code",
   "execution_count": null,
   "metadata": {},
   "outputs": [],
   "source": [
    "import sys\n",
    "\n",
    "input = sys.stdin.readline\n",
    "\n",
    "N = int(input())\n",
    "A = list(map(int, input().rstrip().split()))\n",
    "\n",
    "sorted_set_A = sorted(list(set(A)))\n",
    "D = {sorted_set_A[i]: i for i in range(len(sorted_set_A))}\n",
    "\n",
    "print(\" \".join(map(str, [D[i] for i in A])))"
   ]
  }
 ],
 "metadata": {
  "kernelspec": {
   "display_name": "Baekjoon.py",
   "language": "python",
   "name": "python3"
  },
  "language_info": {
   "codemirror_mode": {
    "name": "ipython",
    "version": 3
   },
   "file_extension": ".py",
   "mimetype": "text/x-python",
   "name": "python",
   "nbconvert_exporter": "python",
   "pygments_lexer": "ipython3",
   "version": "3.11.5"
  }
 },
 "nbformat": 4,
 "nbformat_minor": 2
}
