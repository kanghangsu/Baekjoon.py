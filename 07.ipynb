{
 "cells": [
  {
   "cell_type": "markdown",
   "id": "2f3e132c",
   "metadata": {},
   "source": [
    "| 단계 | 문제 번호 | 제목                                              |\n",
    "| ---- | --------- | ------------------------------------------------- |\n",
    "| 1    | 2738      | [행렬 덧셈](https://www.acmicpc.net/problem/2738) |\n",
    "| 2    | 2566      | [최댓값](https://www.acmicpc.net/problem/2566)    |\n",
    "| 3    | 10798     | [세로읽기](https://www.acmicpc.net/problem/10798) |\n",
    "| 4    | 2563      | [색종이](https://www.acmicpc.net/problem/2563)    |\n"
   ]
  },
  {
   "cell_type": "code",
   "execution_count": null,
   "id": "51514730",
   "metadata": {},
   "outputs": [],
   "source": [
    "# https://www.acmicpc.net/problem/2738\n",
    "\n",
    "N, M = map(int, input().split())\n",
    "\n",
    "matrixA = []\n",
    "matrixB = []\n",
    "\n",
    "for i in range(N):\n",
    "    matrixA.append(list(map(int, input().split())))\n",
    "for i in range(N):\n",
    "    matrixB.append(list(map(int, input().split())))\n",
    "\n",
    "for i in range(N):\n",
    "    for j in range(M):\n",
    "        matrixA[i][j] += matrixB[i][j]\n",
    "\n",
    "for i in range(N):\n",
    "    for j in range(M):\n",
    "        print(matrixA[i][j], end=\" \")\n",
    "    print()\n"
   ]
  },
  {
   "cell_type": "code",
   "execution_count": null,
   "id": "73dad1b8",
   "metadata": {},
   "outputs": [],
   "source": [
    "# https://www.acmicpc.net/problem/2566\n",
    "\n",
    "matrix = []\n",
    "\n",
    "for i in range(9):\n",
    "    matrix.append(list(map(int, input().split())))\n",
    "\n",
    "M = 0\n",
    "M_i = 0  # 변수를 미리 선언해두지 않으면, M_i, M_j가 선언되지 않았다는 오류가 발생한다.\n",
    "M_j = 0\n",
    "\n",
    "for i in range(9):\n",
    "    for j in range(9):\n",
    "        if matrix[i][j] > M:\n",
    "            M = matrix[i][j]\n",
    "            M_i = i\n",
    "            M_j = j\n",
    "\n",
    "print(M)\n",
    "print(M_i + 1, M_j + 1)\n"
   ]
  },
  {
   "cell_type": "code",
   "execution_count": null,
   "id": "11090cfa",
   "metadata": {},
   "outputs": [],
   "source": [
    "# https://www.acmicpc.net/problem/10798\n",
    "\n",
    "matrix = []\n",
    "\n",
    "for i in range(5):\n",
    "    matrix.append(list(input()))\n",
    "\n",
    "for i in range(15):\n",
    "    for j in range(5):\n",
    "        if len(matrix[j]) > i:\n",
    "            print(matrix[j][i], end=\"\")\n",
    "print()\n"
   ]
  },
  {
   "cell_type": "code",
   "execution_count": null,
   "id": "50321d95",
   "metadata": {},
   "outputs": [],
   "source": [
    "# https://www.acmicpc.net/problem/2563\n",
    "\n",
    "N = int(input())\n",
    "\n",
    "filed = []\n",
    "\n",
    "for i in range(100):\n",
    "    filed.append([0] * 100)\n",
    "\n",
    "for i in range(N):\n",
    "    x, y = map(int, input().split())\n",
    "    for j in range(y, y + 10):\n",
    "        for k in range(x, x + 10):\n",
    "            filed[j][k] = 1\n",
    "\n",
    "result = 0\n",
    "\n",
    "for i in range(100):\n",
    "    for j in range(100):\n",
    "        if filed[i][j] == 1:\n",
    "            result += 1\n",
    "\n",
    "print(result)\n"
   ]
  }
 ],
 "metadata": {
  "language_info": {
   "name": "python"
  }
 },
 "nbformat": 4,
 "nbformat_minor": 5
}
