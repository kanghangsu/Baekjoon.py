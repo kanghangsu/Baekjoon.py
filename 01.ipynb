{
 "cells": [
  {
   "cell_type": "markdown",
   "id": "2ccd8e67",
   "metadata": {},
   "source": [
    "| 단계 | 문제 번호 | 제목                                                                           |\n",
    "| ---- | --------- | ------------------------------------------------------------------------------ |\n",
    "| 1    | 2557      | [Hello World](https://www.acmicpc.net/problem/2557)                            |\n",
    "| 2    | 1000      | [A+B](https://www.acmicpc.net/problem/1000)                                    |\n",
    "| 3    | 1001      | [A-B](https://www.acmicpc.net/problem/1001)                                    |\n",
    "| 4    | 10998     | [A×B](https://www.acmicpc.net/problem/10998)                                   |\n",
    "| 5    | 1008      | [A/B](https://www.acmicpc.net/problem/1008)                                    |\n",
    "| 6    | 10869     | [사칙연산](https://www.acmicpc.net/problem/10869)                              |\n",
    "| 7    | 10926     | [??!](https://www.acmicpc.net/problem/10926)                                   |\n",
    "| 8    | 18108     | [1998년생인 내가 태국에서는 2541년생?!](https://www.acmicpc.net/problem/18108) |\n",
    "| 9    | 10430     | [나머지](https://www.acmicpc.net/problem/10430)                                |\n",
    "| 10   | 2588      | [곱셈](https://www.acmicpc.net/problem/2588)                                   |\n",
    "| 11   | 11382     | [꼬마 정민](https://www.acmicpc.net/problem/11382)                             |\n",
    "| 12   | 10171     | [고양이](https://www.acmicpc.net/problem/10171)                                |\n",
    "| 13   | 10172     | [개](https://www.acmicpc.net/problem/10172)                                    |"
   ]
  },
  {
   "cell_type": "code",
   "execution_count": null,
   "id": "aab99725",
   "metadata": {},
   "outputs": [],
   "source": [
    "MSG = \"Hello World!\"\n",
    "print(MSG)"
   ]
  },
  {
   "cell_type": "code",
   "execution_count": null,
   "id": "97b6d7fb",
   "metadata": {},
   "outputs": [],
   "source": [
    "numbers = input().split()\n",
    "\n",
    "A = int(numbers[0])\n",
    "B = int(numbers[1])\n",
    "\n",
    "answer = A + B\n",
    "\n",
    "print(answer)"
   ]
  },
  {
   "cell_type": "code",
   "execution_count": null,
   "id": "832ce70f",
   "metadata": {},
   "outputs": [],
   "source": [
    "numbers = input().split()\n",
    "\n",
    "A = int(numbers[0])\n",
    "B = int(numbers[1])\n",
    "\n",
    "answer = A - B\n",
    "\n",
    "print(answer)"
   ]
  },
  {
   "cell_type": "code",
   "execution_count": null,
   "id": "9009f91a",
   "metadata": {},
   "outputs": [],
   "source": [
    "numbers = input().split()\n",
    "\n",
    "A = int(numbers[0])\n",
    "B = int(numbers[1])\n",
    "\n",
    "answer = A * B\n",
    "\n",
    "print(answer)"
   ]
  },
  {
   "cell_type": "code",
   "execution_count": null,
   "id": "8848f17a",
   "metadata": {},
   "outputs": [],
   "source": [
    "numbers = input().split()\n",
    "\n",
    "A = int(numbers[0])\n",
    "B = int(numbers[1])\n",
    "\n",
    "answer = A / B\n",
    "\n",
    "print(answer)"
   ]
  },
  {
   "cell_type": "code",
   "execution_count": null,
   "id": "97e75048",
   "metadata": {},
   "outputs": [],
   "source": [
    "numbers = input().split()\n",
    "\n",
    "A = int(numbers[0])\n",
    "B = int(numbers[1])\n",
    "\n",
    "ans1 = A + B\n",
    "ans2 = A - B\n",
    "ans3 = A * B\n",
    "ans4 = A // B\n",
    "ans5 = A % B\n",
    "\n",
    "print(ans1)\n",
    "print(ans2)\n",
    "print(ans3)\n",
    "print(ans4)\n",
    "print(ans5)"
   ]
  },
  {
   "cell_type": "code",
   "execution_count": null,
   "id": "11047502",
   "metadata": {},
   "outputs": [],
   "source": [
    "WOW = \"??!\"\n",
    "\n",
    "userName = input()\n",
    "\n",
    "answer = userName + WOW\n",
    "\n",
    "print(answer)"
   ]
  },
  {
   "cell_type": "code",
   "execution_count": null,
   "id": "91774413",
   "metadata": {},
   "outputs": [],
   "source": [
    "buddhistYear = int(input())\n",
    "\n",
    "christianYear = buddhistYear - 2541 + 1998\n",
    "\n",
    "answer = christianYear\n",
    "\n",
    "print(answer)"
   ]
  },
  {
   "cell_type": "code",
   "execution_count": null,
   "id": "2f4e195f",
   "metadata": {},
   "outputs": [],
   "source": [
    "numbers = input().split()\n",
    "\n",
    "A = int(numbers[0])\n",
    "B = int(numbers[1])\n",
    "C = int(numbers[2])\n",
    "\n",
    "ans1 = (A + B) % C\n",
    "ans2 = ((A % C) + (B % C)) % C\n",
    "ans3 = (A * B) % C\n",
    "ans4 = ((A % C) * (B % C)) % C\n",
    "\n",
    "print(ans1)\n",
    "print(ans2)\n",
    "print(ans3)\n",
    "print(ans4)"
   ]
  },
  {
   "cell_type": "code",
   "execution_count": null,
   "id": "b98ce9f1",
   "metadata": {},
   "outputs": [],
   "source": [
    "A = int(input())\n",
    "B = int(input())\n",
    "\n",
    "ans3 = A * (B % 10)\n",
    "ans4 = A * ((B % 100) // 10)\n",
    "ans5 = A * (B // 100)\n",
    "ans6 = A * B\n",
    "\n",
    "print(ans3)\n",
    "print(ans4)\n",
    "print(ans5)\n",
    "print(ans6)"
   ]
  },
  {
   "cell_type": "code",
   "execution_count": null,
   "id": "48f925a6",
   "metadata": {},
   "outputs": [],
   "source": [
    "numbers = input().split()\n",
    "\n",
    "A = int(numbers[0])\n",
    "B = int(numbers[1])\n",
    "C = int(numbers[2])\n",
    "\n",
    "answer = A + B + C\n",
    "\n",
    "print(answer)"
   ]
  },
  {
   "cell_type": "code",
   "execution_count": null,
   "id": "0348b9c5",
   "metadata": {},
   "outputs": [],
   "source": [
    "cat = r\"\"\"\\    /\\\n",
    " )  ( ')\n",
    "(  /  )\n",
    " \\(__)|\"\"\"\n",
    "\n",
    "print(cat)"
   ]
  },
  {
   "cell_type": "code",
   "execution_count": null,
   "id": "c0461ab9",
   "metadata": {},
   "outputs": [],
   "source": [
    "dog = r'''|\\_/|\n",
    "|q p|   /}\n",
    "( 0 )\"\"\"\\\n",
    "|\"^\"`    |\n",
    "||_/=\\\\__|'''\n",
    "\n",
    "print(dog)"
   ]
  }
 ],
 "metadata": {
  "kernelspec": {
   "display_name": "Baekjoon.py",
   "language": "python",
   "name": "python3"
  },
  "language_info": {
   "codemirror_mode": {
    "name": "ipython",
    "version": 3
   },
   "file_extension": ".py",
   "mimetype": "text/x-python",
   "name": "python",
   "nbconvert_exporter": "python",
   "pygments_lexer": "ipython3",
   "version": "3.11.5"
  }
 },
 "nbformat": 4,
 "nbformat_minor": 5
}
