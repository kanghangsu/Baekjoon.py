{
 "cells": [
  {
   "cell_type": "markdown",
   "id": "a896e8de",
   "metadata": {},
   "source": [
    "| 단계 | 문제 번호 | 제목                                                            |\n",
    "| ---- | --------- | --------------------------------------------------------------- |\n",
    "| 1    | 27323     | [직사각형](https://www.acmicpc.net/problem/27323)               |\n",
    "| 2    | 1085      | [직사각형에서 탈출](https://www.acmicpc.net/problem/1085)       |\n",
    "| 3    | 3009      | [네 번째 점](https://www.acmicpc.net/problem/3009)              |\n",
    "| 4    | 15894     | [수학은 체육과목 입니다](https://www.acmicpc.net/problem/15894) |\n",
    "| 5    | 9063      | [대지](https://www.acmicpc.net/problem/9063)                    |\n",
    "| 6    | 10101     | [삼각형 외우기](https://www.acmicpc.net/problem/10101)          |\n",
    "| 7    | 5073      | [삼각형과 세 변](https://www.acmicpc.net/problem/5073)          |\n",
    "| 8    | 14215     | [세 막대](https://www.acmicpc.net/problem/14215)                |\n"
   ]
  },
  {
   "cell_type": "code",
   "execution_count": null,
   "id": "7515b100",
   "metadata": {},
   "outputs": [],
   "source": [
    "# https://www.acmicpc.net/problem/27323\n",
    "\n",
    "A = int(input())\n",
    "B = int(input())\n",
    "\n",
    "print(A * B)\n"
   ]
  },
  {
   "cell_type": "code",
   "execution_count": null,
   "id": "3682b6ca",
   "metadata": {},
   "outputs": [],
   "source": [
    "# https://www.acmicpc.net/problem/1085\n",
    "\n",
    "x, y, w, h = map(int, input().split())\n",
    "\n",
    "print(min(x, y, w - x, h - y))\n"
   ]
  },
  {
   "cell_type": "code",
   "execution_count": null,
   "id": "0e8c5504",
   "metadata": {},
   "outputs": [],
   "source": [
    "# https://www.acmicpc.net/problem/3009\n",
    "\n",
    "x = []\n",
    "y = []\n",
    "\n",
    "for _ in range(3):\n",
    "    a, b = map(int, input().split())\n",
    "    x.append(a)\n",
    "    y.append(b)\n",
    "\n",
    "for i in range(3):\n",
    "    if x.count(x[i]) == 1:\n",
    "        a = x[i]\n",
    "    if y.count(y[i]) == 1:\n",
    "        b = y[i]\n",
    "\n",
    "print(a, b)\n"
   ]
  },
  {
   "cell_type": "code",
   "execution_count": null,
   "id": "8a6413c8",
   "metadata": {},
   "outputs": [],
   "source": [
    "# https://www.acmicpc.net/problem/15894\n",
    "\n",
    "print(int(input()) * 4)\n"
   ]
  },
  {
   "cell_type": "code",
   "execution_count": null,
   "id": "12534103",
   "metadata": {},
   "outputs": [],
   "source": [
    "# https://www.acmicpc.net/problem/9063\n",
    "\n",
    "N = int(input())\n",
    "\n",
    "x, y = [], []\n",
    "\n",
    "for _ in range(N):\n",
    "    a, b = map(int, input().split())\n",
    "    x.append(a)\n",
    "    y.append(b)\n",
    "\n",
    "x_min, x_max = min(x), max(x)\n",
    "y_min, y_max = min(y), max(y)\n",
    "\n",
    "size = (x_max - x_min) * (y_max - y_min)\n",
    "\n",
    "print(size)\n"
   ]
  },
  {
   "cell_type": "code",
   "execution_count": null,
   "id": "87b7fce8",
   "metadata": {},
   "outputs": [],
   "source": [
    "# https://www.acmicpc.net/problem/10101\n",
    "\n",
    "angles = []\n",
    "\n",
    "for _ in range(3):\n",
    "    angles.append(int(input()))\n",
    "\n",
    "if sum(angles) == 180:\n",
    "    if len(set(angles)) == 1:\n",
    "        print(\"Equilateral\")\n",
    "    elif len(set(angles)) == 2:\n",
    "        print(\"Isosceles\")\n",
    "    else:\n",
    "        print(\"Scalene\")\n",
    "else:\n",
    "    print(\"Error\")\n"
   ]
  },
  {
   "cell_type": "code",
   "execution_count": null,
   "id": "84080689",
   "metadata": {},
   "outputs": [],
   "source": [
    "# https://www.acmicpc.net/problem/5073\n",
    "\n",
    "while True:\n",
    "    try:\n",
    "        lengths = list(map(int, input().split()))\n",
    "        if set(lengths) == {0}:\n",
    "            break\n",
    "        else:\n",
    "            if sum(lengths) - max(lengths) <= max(lengths):\n",
    "                print(\"Invalid\")\n",
    "            elif len(set(lengths)) == 1:\n",
    "                print(\"Equilateral\")\n",
    "            elif len(set(lengths)) == 2:\n",
    "                print(\"Isosceles\")\n",
    "            else:\n",
    "                print(\"Scalene\")\n",
    "    except:\n",
    "        break\n"
   ]
  },
  {
   "cell_type": "code",
   "execution_count": null,
   "id": "1c1ae5ac",
   "metadata": {},
   "outputs": [],
   "source": [
    "# https://www.acmicpc.net/problem/14215\n",
    "\n",
    "lengths = list(map(int, input().split()))\n",
    "\n",
    "a = sorted(lengths)[0]\n",
    "b = sorted(lengths)[1]\n",
    "c = sorted(lengths)[2]\n",
    "\n",
    "if a + b > c:\n",
    "    print(a + b + c)\n",
    "else:\n",
    "    print((a + b) - 1 + a + b)\n"
   ]
  }
 ],
 "metadata": {
  "language_info": {
   "name": "python"
  }
 },
 "nbformat": 4,
 "nbformat_minor": 5
}
