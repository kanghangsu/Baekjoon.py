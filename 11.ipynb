{
 "cells": [
  {
   "cell_type": "markdown",
   "metadata": {},
   "source": [
    "| 단계 | 문제 번호 | 제목                                                                            |\n",
    "| ---- | --------- | ------------------------------------------------------------------------------- |\n",
    "| 1    | 24262     | [알고리즘 수업 - 알고리즘의 수행 시간 1](https://www.acmicpc.net/problem/24262) |\n",
    "| 2    | 24263     | [알고리즘 수업 - 알고리즘의 수행 시간 2](https://www.acmicpc.net/problem/24263) |\n",
    "| 3    | 24264     | [알고리즘 수업 - 알고리즘의 수행 시간 3](https://www.acmicpc.net/problem/24264) |\n",
    "| 4    | 24265     | [알고리즘 수업 - 알고리즘의 수행 시간 4](https://www.acmicpc.net/problem/24265) |\n",
    "| 5    | 24266     | [알고리즘 수업 - 알고리즘의 수행 시간 5](https://www.acmicpc.net/problem/24266) |\n",
    "| 6    | 24267     | [알고리즘 수업 - 알고리즘의 수행 시간 6](https://www.acmicpc.net/problem/24267) |\n",
    "| 7    | 24313     | [알고리즘 수업 - 점근적 표기 1](https://www.acmicpc.net/problem/24313)          |\n"
   ]
  },
  {
   "cell_type": "code",
   "execution_count": null,
   "metadata": {},
   "outputs": [],
   "source": [
    "n = int(input())\n",
    "\n",
    "print(1)\n",
    "print(0)"
   ]
  },
  {
   "cell_type": "code",
   "execution_count": null,
   "metadata": {},
   "outputs": [],
   "source": [
    "def men_of_passion(A, n):\n",
    "    sum = 0\n",
    "    for i in range(1, n + 1):\n",
    "        sum += A[i]  # CODE1\n",
    "    return sum\n",
    "\n",
    "\n",
    "n = int(input())\n",
    "\n",
    "print(n)  #: (n)회 반복\n",
    "print(1)  #: (n)회 반복"
   ]
  },
  {
   "cell_type": "code",
   "execution_count": null,
   "metadata": {},
   "outputs": [],
   "source": [
    "def men_of_passion(A, n):\n",
    "    sum = 0\n",
    "    for i in range(1, n + 1):\n",
    "        for j in range(1, n + 1):\n",
    "            sum += A[i] * A[j]  # CODE1\n",
    "    return sum\n",
    "\n",
    "\n",
    "n = int(input())\n",
    "\n",
    "print(n**2)  #: (n * n)회 반복\n",
    "print(2)"
   ]
  },
  {
   "cell_type": "code",
   "execution_count": null,
   "metadata": {},
   "outputs": [],
   "source": [
    "def men_of_passion(A, n):\n",
    "    count = 0\n",
    "    sum = 0\n",
    "    for i in range(1, n):\n",
    "        for j in range(i + 1, n + 1):\n",
    "            count += 1\n",
    "            sum += A[i] * A[j]\n",
    "    return sum, count\n",
    "\n",
    "\n",
    "n = int(input())\n",
    "\n",
    "# i: 1, 2, 3, ..., n-1\n",
    "# j: i+1, i+2, ..., n\n",
    "# i가 1일 때, j는 2 ~ n : n - 1\n",
    "# i가 2일 때, j는 3 ~ n : n - 2\n",
    "# i가 3일 때, j는 4 ~ n : n - 3\n",
    "# ...\n",
    "# i가 n-1일 때, j는 n : 1\n",
    "# (n - 1) + (n - 2) + ... + 1 = n * (n - 1) / 2\n",
    "\n",
    "print(int(n * (n - 1) / 2))\n",
    "print(2)"
   ]
  },
  {
   "cell_type": "code",
   "execution_count": null,
   "metadata": {},
   "outputs": [],
   "source": [
    "def men_of_passion(A, n):\n",
    "    sum = 0\n",
    "    for i in range(1, n + 1):\n",
    "        for j in range(1, n + 1):\n",
    "            for k in range(1, n + 1):\n",
    "                sum += A[i] * A[j] * A[k]  # CODE1\n",
    "    return sum\n",
    "\n",
    "# i: 1, 2, 3, ..., n\n",
    "# j: 1, 2, 3, ..., n\n",
    "# k: 1, 2, 3, ..., n\n",
    "# n * n * n = n**3\n",
    "\n",
    "n = int(input())\n",
    "\n",
    "print(n**3)\n",
    "print(3)"
   ]
  },
  {
   "cell_type": "code",
   "execution_count": null,
   "metadata": {},
   "outputs": [],
   "source": [
    "def men_of_passion(A, n):\n",
    "    sum = 0\n",
    "    for i in range(1, n - 1):\n",
    "        for j in range(i + 1, n):\n",
    "            for k in range(j + 1, n + 1):\n",
    "                sum += A[i] * A[j] * A[k]  # CODE1\n",
    "    return sum\n",
    "\n",
    "\n",
    "# i : 1, 2, 3, ..., n-2\n",
    "# j : i+1, i+2, ..., n-1\n",
    "# k : j+1, j+2, ..., n\n",
    "\n",
    "# i = 1, j = 2, k = 3 ~ n : n - 2\n",
    "# i = 1, j = 3, k = 4 ~ n : n - 3\n",
    "# ...\n",
    "# i = 1, j = n - 1, k = n : 1\n",
    "# => (n - 2) + (n - 3) + ... + 1 = (n - 1) * (n - 2) / 2\n",
    "\n",
    "# i = 2, j = 3, k = 4 ~ n : n - 3\n",
    "# i = 2, j = 4, k = 5 ~ n : n - 4\n",
    "# ...\n",
    "# i = 2, j = n - 1, k = n : 1\n",
    "# => (n - 3) + (n - 4) + ... + 1 = (n - 2) * (n - 3) / 2\n",
    "\n",
    "# (n-1)*(n-2)/2 + (n-2)*(n-3)/2 + ... + 1*0/2 = n*(n-1)*(n-2)/6\n",
    "\n",
    "n = int(input())\n",
    "\n",
    "print(int(n * (n - 1) * (n - 2) / 6))\n",
    "print(3)"
   ]
  },
  {
   "cell_type": "code",
   "execution_count": null,
   "metadata": {},
   "outputs": [],
   "source": [
    "a_1, a_0 = list(map(int, input().split()))\n",
    "c = int(input())\n",
    "n_0 = int(input())\n",
    "\n",
    "\n",
    "def f(n):\n",
    "    return a_1 * n + a_0\n",
    "\n",
    "\n",
    "def g(n):\n",
    "    return n\n",
    "\n",
    "\n",
    "condition = []\n",
    "\n",
    "for n in range(n_0, 101):\n",
    "    if f(n) <= c * g(n):\n",
    "        condition.append(True)\n",
    "    else:\n",
    "        condition.append(False)\n",
    "\n",
    "if False in condition:\n",
    "    print(0)\n",
    "else:\n",
    "    print(1)"
   ]
  }
 ],
 "metadata": {
  "kernelspec": {
   "display_name": "Baekjoon.py",
   "language": "python",
   "name": "python3"
  },
  "language_info": {
   "codemirror_mode": {
    "name": "ipython",
    "version": 3
   },
   "file_extension": ".py",
   "mimetype": "text/x-python",
   "name": "python",
   "nbconvert_exporter": "python",
   "pygments_lexer": "ipython3",
   "version": "3.11.5"
  }
 },
 "nbformat": 4,
 "nbformat_minor": 2
}
