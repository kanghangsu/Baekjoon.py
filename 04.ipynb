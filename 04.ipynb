{
 "cells": [
  {
   "cell_type": "markdown",
   "id": "91a4f96f",
   "metadata": {},
   "source": [
    "| 단계 | 문제 번호 | 제목                                                       |\n",
    "| ---- | --------- | ---------------------------------------------------------- |\n",
    "| 1    | 10807     | [개수 세기](https://www.acmicpc.net/problem/10807)         |\n",
    "| 2    | 10871     | [X보다 작은 수](https://www.acmicpc.net/problem/10871)     |\n",
    "| 3    | 10818     | [최소, 최대](https://www.acmicpc.net/problem/10818)        |\n",
    "| 4    | 2562      | [최댓값](https://www.acmicpc.net/problem/2562)             |\n",
    "| 5    | 10810     | [공 넣기](https://www.acmicpc.net/problem/10810)           |\n",
    "| 6    | 10813     | [공 바꾸기](https://www.acmicpc.net/problem/10813)         |\n",
    "| 7    | 5597      | [과제 안 내신 분..?](https://www.acmicpc.net/problem/5597) |\n",
    "| 8    | 3052      | [나머지](https://www.acmicpc.net/problem/3052)             |\n",
    "| 9    | 10811     | [바구니 뒤집기](https://www.acmicpc.net/problem/10811)     |\n",
    "| 10   | 1546      | [평균](https://www.acmicpc.net/problem/1546)               |"
   ]
  },
  {
   "cell_type": "code",
   "execution_count": null,
   "id": "fbe398d7",
   "metadata": {},
   "outputs": [],
   "source": [
    "# https://www.acmicpc.net/problem/10807\n",
    "\n",
    "N = int(input())\n",
    "nums = list(map(int, input().split()))\n",
    "v = int(input())\n",
    "\n",
    "count = 0\n",
    "\n",
    "for i in range(N):\n",
    "    if nums[i] == v:\n",
    "        count += 1\n",
    "\n",
    "print(count)\n"
   ]
  },
  {
   "cell_type": "code",
   "execution_count": null,
   "id": "71f23e0a",
   "metadata": {},
   "outputs": [],
   "source": [
    "# https://www.acmicpc.net/problem/10807\n",
    "\n",
    "N, X = map(int, input().split())\n",
    "nums = list(map(int, input().split()))\n",
    "\n",
    "selectedNums = []\n",
    "\n",
    "for i in range(N):\n",
    "    if nums[i] < X:\n",
    "        selectedNums.append(nums[i])\n",
    "\n",
    "for i in range(len(selectedNums)):\n",
    "    print(selectedNums[i], end=\" \")\n",
    "\n",
    "print()\n"
   ]
  },
  {
   "cell_type": "code",
   "execution_count": null,
   "id": "ad03e9c6",
   "metadata": {},
   "outputs": [],
   "source": [
    "# https://www.acmicpc.net/problem/10818\n",
    "\n",
    "N = int(input())\n",
    "nums = list(map(int, input().split()))\n",
    "\n",
    "minNum = min(nums)\n",
    "maxNum = max(nums)\n",
    "\n",
    "print(minNum, maxNum)\n"
   ]
  },
  {
   "cell_type": "code",
   "execution_count": null,
   "id": "da664cc7",
   "metadata": {},
   "outputs": [],
   "source": [
    "# https://www.acmicpc.net/problem/2562\n",
    "\n",
    "nums = []\n",
    "\n",
    "for i in range(9):\n",
    "    nums.append(int(input()))\n",
    "\n",
    "maxNum = max(nums)\n",
    "maxIndex = nums.index(maxNum)\n",
    "\n",
    "print(maxNum)\n",
    "print(maxIndex + 1)\n"
   ]
  },
  {
   "cell_type": "code",
   "execution_count": null,
   "id": "8793f0e5",
   "metadata": {},
   "outputs": [],
   "source": [
    "# https://www.acmicpc.net/problem/10810\n",
    "\n",
    "N, M = map(int, input().split())\n",
    "\n",
    "baskets = []\n",
    "\n",
    "for i in range(N):\n",
    "    baskets.append(0)\n",
    "\n",
    "for c in range(M):\n",
    "    i, j, k = map(int, input().split())\n",
    "    for d in range(i - 1, j):\n",
    "        baskets[d] = k\n",
    "\n",
    "print(\" \".join(map(str, baskets)))\n"
   ]
  },
  {
   "cell_type": "code",
   "execution_count": null,
   "id": "b2e5e5db",
   "metadata": {},
   "outputs": [],
   "source": [
    "# https://www.acmicpc.net/problem/10813\n",
    "\n",
    "N, M = map(int, input().split())\n",
    "\n",
    "baskets = []\n",
    "\n",
    "for i in range(N):\n",
    "    baskets.append(i + 1)\n",
    "\n",
    "for c in range(M):\n",
    "    i, j = map(int, input().split())\n",
    "    baskets[i - 1], baskets[j - 1] = baskets[j - 1], baskets[i - 1]\n",
    "\n",
    "print(\" \".join(map(str, baskets)))\n"
   ]
  },
  {
   "cell_type": "code",
   "execution_count": null,
   "id": "d7ad6320",
   "metadata": {},
   "outputs": [],
   "source": [
    "# https://www.acmicpc.net/problem/5597\n",
    "\n",
    "nums = []\n",
    "\n",
    "for i in range(28):\n",
    "    nums.append(int(input()))\n",
    "\n",
    "for i in range(1, 31):\n",
    "    if i not in nums:\n",
    "        print(i)\n"
   ]
  },
  {
   "cell_type": "code",
   "execution_count": null,
   "id": "a94fc359",
   "metadata": {},
   "outputs": [],
   "source": [
    "# https://www.acmicpc.net/problem/3052\n",
    "\n",
    "nums = []\n",
    "mods = []\n",
    "\n",
    "for i in range(10):\n",
    "    nums.append(int(input()))\n",
    "\n",
    "for i in range(10):\n",
    "    if nums[i] % 42 not in mods:\n",
    "        mods.append(nums[i] % 42)\n",
    "\n",
    "print(len(mods))\n"
   ]
  },
  {
   "cell_type": "code",
   "execution_count": null,
   "id": "d1d1acc6",
   "metadata": {},
   "outputs": [],
   "source": [
    "# https://www.acmicpc.net/problem/10811\n",
    "\n",
    "N, M = map(int, input().split())\n",
    "\n",
    "baskets = []\n",
    "\n",
    "for i in range(N):\n",
    "    baskets.append(i + 1)\n",
    "\n",
    "for c in range(M):\n",
    "    i, j = map(int, input().split())\n",
    "    baskets[i - 1:j] = baskets[i - 1:j][::-1]\n",
    "\n",
    "print(\" \".join(map(str, baskets)))\n"
   ]
  },
  {
   "cell_type": "code",
   "execution_count": null,
   "id": "83c6b7ee",
   "metadata": {},
   "outputs": [],
   "source": [
    "# https://www.acmicpc.net/problem/1546\n",
    "\n",
    "N = int(input())\n",
    "scores = list(map(int, input().split()))\n",
    "\n",
    "M = max(scores)\n",
    "\n",
    "cheatScores = []\n",
    "for i in range(N):\n",
    "    cheatScores.append(scores[i] / M * 100)\n",
    "\n",
    "cheatSum = 0\n",
    "for i in range(N):\n",
    "    cheatSum += cheatScores[i]\n",
    "\n",
    "print(cheatSum / N)\n"
   ]
  }
 ],
 "metadata": {
  "language_info": {
   "name": "python"
  }
 },
 "nbformat": 4,
 "nbformat_minor": 5
}
