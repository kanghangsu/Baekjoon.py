{
 "cells": [
  {
   "cell_type": "markdown",
   "id": "d9bfb3a4",
   "metadata": {},
   "source": [
    "| 단계 | 문제 번호 | 제목                                                   |\n",
    "| ---- | --------- | ------------------------------------------------------ |\n",
    "| 1    | 1330      | [두 수 비교하기](https://www.acmicpc.net/problem/1330) |\n",
    "| 2    | 9498      | [시험 성적](https://www.acmicpc.net/problem/9498)      |\n",
    "| 3    | 2753      | [윤년](https://www.acmicpc.net/problem/2753)           |\n",
    "| 4    | 14681     | [사분면 고르기](https://www.acmicpc.net/problem/14681) |\n",
    "| 5    | 2884      | [알람 시계](https://www.acmicpc.net/problem/2884)      |\n",
    "| 6    | 2525      | [오븐 시계](https://www.acmicpc.net/problem/2525)      |\n",
    "| 7    | 2480      | [주사위 세개](https://www.acmicpc.net/problem/2480)    |"
   ]
  },
  {
   "cell_type": "code",
   "execution_count": null,
   "id": "cb3144b5",
   "metadata": {},
   "outputs": [],
   "source": [
    "numbers = input().split()\n",
    "\n",
    "A = int(numbers[0])\n",
    "B = int(numbers[1])\n",
    "\n",
    "if A > B:\n",
    "    print(\">\")\n",
    "elif A < B:\n",
    "    print(\"<\")\n",
    "else:\n",
    "    print(\"==\")"
   ]
  },
  {
   "cell_type": "code",
   "execution_count": null,
   "id": "96bf4e3a",
   "metadata": {},
   "outputs": [],
   "source": [
    "score = int(input())\n",
    "\n",
    "if score >= 90:\n",
    "    print(\"A\")\n",
    "elif score >= 80:\n",
    "    print(\"B\")\n",
    "elif score >= 70:\n",
    "    print(\"C\")\n",
    "elif score >= 60:\n",
    "    print(\"D\")\n",
    "else:\n",
    "    print(\"F\")"
   ]
  },
  {
   "cell_type": "code",
   "execution_count": null,
   "id": "32c2cda0",
   "metadata": {},
   "outputs": [],
   "source": [
    "year = int(input())\n",
    "\n",
    "if (year % 4 == 0) and ((year % 100 != 0) or (year % 400 == 0)):\n",
    "    print(1)\n",
    "else:\n",
    "    print(0)"
   ]
  },
  {
   "cell_type": "code",
   "execution_count": null,
   "id": "dc87cee1",
   "metadata": {},
   "outputs": [],
   "source": [
    "x = int(input())\n",
    "y = int(input())\n",
    "\n",
    "if y > 0:\n",
    "    if x > 0:\n",
    "        print(1)\n",
    "    else:\n",
    "        print(2)\n",
    "else:\n",
    "    if x < 0:\n",
    "        print(3)\n",
    "    else:\n",
    "        print(4)"
   ]
  },
  {
   "cell_type": "code",
   "execution_count": null,
   "id": "b72f8782",
   "metadata": {},
   "outputs": [],
   "source": [
    "targetHM = input().split()\n",
    "\n",
    "targetH = int(targetHM[0])\n",
    "targetM = int(targetHM[1])\n",
    "\n",
    "targetMM = targetH * 60 + targetM\n",
    "\n",
    "alramMM = targetMM - 45\n",
    "\n",
    "if alramMM < 0:\n",
    "    alramMM = alramMM + 24 * 60\n",
    "\n",
    "alramH = alramMM // 60\n",
    "alramM = alramMM % 60\n",
    "\n",
    "print(alramH, alramM)"
   ]
  },
  {
   "cell_type": "code",
   "execution_count": null,
   "id": "5c9fc8ad",
   "metadata": {},
   "outputs": [],
   "source": [
    "nowHM = input().split()\n",
    "cookM = int(input())\n",
    "\n",
    "nowH = int(nowHM[0])\n",
    "nowM = int(nowHM[1])\n",
    "\n",
    "nowMM = nowH * 60 + nowM\n",
    "\n",
    "alramMM = nowMM + cookM\n",
    "\n",
    "if alramMM >= 24 * 60:\n",
    "    alramMM = alramMM - 24 * 60\n",
    "\n",
    "alramH = alramMM // 60\n",
    "alramM = alramMM % 60\n",
    "\n",
    "print(alramH, alramM)"
   ]
  },
  {
   "cell_type": "code",
   "execution_count": null,
   "id": "3e29b497",
   "metadata": {},
   "outputs": [],
   "source": [
    "dices = input().split()\n",
    "\n",
    "dice1 = int(dices[0])\n",
    "dice2 = int(dices[1])\n",
    "dice3 = int(dices[2])\n",
    "\n",
    "if dice1 == dice2 and dice2 == dice3:\n",
    "    price = 10000 + dice1 * 1000\n",
    "elif dice1 == dice2:\n",
    "    price = 1000 + dice1 * 100\n",
    "elif dice2 == dice3:\n",
    "    price = 1000 + dice2 * 100\n",
    "elif dice1 == dice3:\n",
    "    price = 1000 + dice1 * 100\n",
    "else:\n",
    "    price = max(dice1, dice2, dice3) * 100\n",
    "\n",
    "print(price)"
   ]
  }
 ],
 "metadata": {
  "kernelspec": {
   "display_name": "Baekjoon.py",
   "language": "python",
   "name": "python3"
  },
  "language_info": {
   "codemirror_mode": {
    "name": "ipython",
    "version": 3
   },
   "file_extension": ".py",
   "mimetype": "text/x-python",
   "name": "python",
   "nbconvert_exporter": "python",
   "pygments_lexer": "ipython3",
   "version": "3.11.5"
  }
 },
 "nbformat": 4,
 "nbformat_minor": 5
}
